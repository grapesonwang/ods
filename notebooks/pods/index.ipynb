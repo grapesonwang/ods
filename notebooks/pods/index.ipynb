{
 "cells": [
  {
   "cell_type": "markdown",
   "metadata": {},
   "source": [
    "# Software for Open Data Science\n",
    "\n",
    "## Open Data Science Initiative\n",
    "\n",
    "### 3rd November 2014 Neil D. Lawrence\n",
    "\n",
    "This repository contains some general software for open data science. In these notebooks we include examples on how to use the `pods` software or python open data science software. \n",
    "\n",
    "There is [information on initialising the software](./ODS Configuration.ipynb) with the configuration file.\n",
    "\n",
    "#### Data Sets\n",
    "\n",
    "As part of the repository we provide an interface to data sets used for demonstrating machine learning algorithms. Some of the datasets and descriptions of how to add them are provided [here](./datasets/index.ipynb).\n",
    "\n",
    "#### Google Docs Interface\n",
    "\n",
    "We also provide an [interface to Google docs](./Google Docs Interface.ipynb) for `pandas` for sharing and updating data."
   ]
  },
  {
   "cell_type": "code",
   "execution_count": null,
   "metadata": {
    "collapsed": false
   },
   "outputs": [],
   "source": []
  }
 ],
 "metadata": {
  "kernelspec": {
   "display_name": "Python 3",
   "language": "python",
   "name": "python3"
  },
  "language_info": {
   "codemirror_mode": {
    "name": "ipython",
    "version": 3
   },
   "file_extension": ".py",
   "mimetype": "text/x-python",
   "name": "python",
   "nbconvert_exporter": "python",
   "pygments_lexer": "ipython3",
   "version": "3.4.3"
  }
 },
 "nbformat": 4,
 "nbformat_minor": 0
}
