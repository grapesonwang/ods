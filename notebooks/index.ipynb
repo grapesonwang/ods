{
 "cells": [
  {
   "cell_type": "markdown",
   "metadata": {},
   "source": [
    "# Notebooks for Open Data Science\n",
    "\n",
    "* [Pandas, Python and Jupyter](Pandas and Python.ipynb) This notebook provides an introduction to the notebook and to the `pandas` library for 'data analysis'.\n",
    "* [An interface to Google Spreadsheets](pods/Google Docs Interface.ipynb) This notebook demonstrates `pods.google` which provides a simple interface between `pandas` and Google spreadsheets."
   ]
  },
  {
   "cell_type": "code",
   "execution_count": null,
   "metadata": {
    "collapsed": false
   },
   "outputs": [],
   "source": []
  },
  {
   "cell_type": "code",
   "execution_count": null,
   "metadata": {
    "collapsed": false
   },
   "outputs": [],
   "source": []
  }
 ],
 "metadata": {
  "kernelspec": {
   "display_name": "Python 3",
   "language": "python",
   "name": "python3"
  },
  "language_info": {
   "codemirror_mode": {
    "name": "ipython",
    "version": 3
   },
   "file_extension": ".py",
   "mimetype": "text/x-python",
   "name": "python",
   "nbconvert_exporter": "python",
   "pygments_lexer": "ipython3",
   "version": "3.4.3"
  }
 },
 "nbformat": 4,
 "nbformat_minor": 0
}
